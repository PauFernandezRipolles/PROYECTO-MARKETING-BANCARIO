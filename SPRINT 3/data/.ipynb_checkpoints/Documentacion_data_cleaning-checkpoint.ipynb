{
 "cells": [
  {
   "cell_type": "markdown",
   "id": "cac874b2",
   "metadata": {},
   "source": [
    "# Revisión Dataset"
   ]
  },
  {
   "cell_type": "markdown",
   "id": "1b2094ee",
   "metadata": {},
   "source": [
    "Revision Dataset\n",
    "-\tRevisamos duplicados\n",
    "Tenemos casi 5 mil  duplicados\n",
    "\n",
    "-\tPor columna AGE\n",
    "Tenemos 13 nulos\n",
    "\n",
    "-\tPor columna JOB\n",
    "No encontramos nulos ni valores en blanco\n",
    "\n",
    "-\tPor columna marital\n",
    "Tenemos 9 nulos\n",
    " \n",
    " \n",
    "-\tPor columna education\n",
    "Tenemos 7 nulos\n",
    " \n",
    "\n",
    "-\tPor columna default\n",
    "No hemos encontrado Nulos ni valores en Blanco\n",
    "\n",
    "-\tPor columna balance\n",
    "1113 rows con valor 0. Seguramente ignoraremos esta parte.\n",
    " \n",
    " \n",
    "-\tPor columna housing\n",
    "Tenemos 20 nulos\n",
    " \n",
    "-\tPor columna loan:\n",
    "No encontramos ningún nulo ni valor en blanco\n",
    "\n",
    "-\tPor columna contact:\n",
    "No tenemos valores nulos ni valores en blanco\n",
    "\n",
    "-\tPor columna day\n",
    "No tenemos valores nulos ni valores en blanco\n",
    "\n",
    "-\tPor columna month\n",
    "No tenemos valores nulos ni valores en blanco\n",
    "\n",
    "-\tPor columna campaign\n",
    "No tenemos valores nulos ni valores en blanco\n",
    "\n",
    "-\tPor columna pdays\n",
    "No tenemos valores nulos ni valores en blanco\n",
    "\n",
    "-\tPor columna previous\n",
    "12mil rows con valor 0\n",
    " \n",
    "\n",
    "-\tPor columna poutcome\n",
    "No hay valores blancos ni nulos\n",
    "\n",
    "-\tPor columna deposit\n",
    "No hay valores blancos ni nulos\n"
   ]
  },
  {
   "cell_type": "markdown",
   "id": "03fd30c8",
   "metadata": {},
   "source": [
    "## Procedemos a borrar duplicados"
   ]
  },
  {
   "cell_type": "markdown",
   "id": "b2be1a70",
   "metadata": {},
   "source": [
    "## Comprobación antes de borrar duplicados\n",
    "\n",
    "WITH RankedDuplicates AS (\n",
    "    SELECT id, age, job, marital, education, `default`, balance, housing, loan, contact, `day`, `month`, duration, campaign, pdays, previous, poutcome, deposit,\n",
    "        ROW_NUMBER() OVER (PARTITION BY age, job, marital, education, `default`, balance, housing, loan, contact, `day`, `month`, duration, campaign, pdays, previous, poutcome, deposit ORDER BY id) AS row_num\n",
    "    FROM BANK_marketing131024\n",
    ")\n",
    "SELECT *\n",
    "FROM RankedDuplicates\n",
    "WHERE row_num > 1;\n",
    "\n",
    "## Procedemos a borrar las filas duplicadas\n",
    "\n",
    "WITH RankedDuplicates AS (\n",
    "    SELECT id,\n",
    "           ROW_NUMBER() OVER (PARTITION BY age, job, marital, education, `default`, balance, housing, loan, contact, `day`, `month`, duration, campaign, pdays, previous, poutcome, deposit ORDER BY id) AS row_num\n",
    "    FROM BANK_marketing131024\n",
    ")\n",
    "DELETE FROM BANK_marketing131024\n",
    "WHERE id IN (\n",
    "    SELECT id\n",
    "    FROM RankedDuplicates\n",
    "    WHERE row_num > 1\n",
    ");\n",
    "\n"
   ]
  },
  {
   "cell_type": "markdown",
   "id": "6d47e917",
   "metadata": {},
   "source": [
    "# Procedemos a revisar nulos"
   ]
  },
  {
   "cell_type": "markdown",
   "id": "68589de1",
   "metadata": {},
   "source": [
    "## Columna Age\n",
    "Hemos procedido a coger la mediana de edad segun el job y el marital\n",
    "\n"
   ]
  },
  {
   "cell_type": "markdown",
   "id": "97898e41",
   "metadata": {},
   "source": [
    "## Columna Marital\n",
    "A partir del trabajo hemos procedido a coger la moda y insertarsela a los que tienen nulo"
   ]
  },
  {
   "cell_type": "markdown",
   "id": "2d7489f0",
   "metadata": {},
   "source": [
    "## Columna Education"
   ]
  },
  {
   "cell_type": "markdown",
   "id": "43c29932",
   "metadata": {},
   "source": [
    "## Columna Housing\n",
    "Actualizada segun la moda de age, education, marital y job"
   ]
  },
  {
   "cell_type": "markdown",
   "id": "c5644990",
   "metadata": {},
   "source": [
    "# reemplazo de columnas a booleanos\n",
    "\n",
    "- Columnas afectadas: `default`, housing, loan, deposit"
   ]
  },
  {
   "cell_type": "code",
   "execution_count": null,
   "id": "5452b1aa",
   "metadata": {},
   "outputs": [],
   "source": []
  }
 ],
 "metadata": {
  "kernelspec": {
   "display_name": "Python 3 (ipykernel)",
   "language": "python",
   "name": "python3"
  },
  "language_info": {
   "codemirror_mode": {
    "name": "ipython",
    "version": 3
   },
   "file_extension": ".py",
   "mimetype": "text/x-python",
   "name": "python",
   "nbconvert_exporter": "python",
   "pygments_lexer": "ipython3",
   "version": "3.11.4"
  }
 },
 "nbformat": 4,
 "nbformat_minor": 5
}
