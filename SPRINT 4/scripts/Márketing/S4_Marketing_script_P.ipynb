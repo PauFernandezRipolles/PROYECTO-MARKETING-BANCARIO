{
 "cells": [
  {
   "cell_type": "markdown",
   "metadata": {},
   "source": [
    "# SPRINT 4\n",
    "Analistes de Màrqueting i Comunicació: Quin impacte té el mes de l'any a l'eficàcia de les nostres\n",
    "campanyes de màrqueting, i com podem adaptar les nostres estratègies de màrqueting per\n",
    "aprofitar els períodes més efectius de l'any?"
   ]
  },
  {
   "cell_type": "code",
   "execution_count": 2,
   "metadata": {},
   "outputs": [
    {
     "name": "stdout",
     "output_type": "stream",
     "text": [
      "Conexión correcta\n",
      "Tabla 'BANK_marketing' cargada correctamente.\n",
      "Tabla 'BANK_marketing131024' cargada correctamente.\n",
      "Tabla 'BANK_marketing211024' cargada correctamente.\n",
      "Tabla 'BANK_marketing_backup_211024' cargada correctamente.\n"
     ]
    }
   ],
   "source": [
    "from sqlalchemy import create_engine, inspect\n",
    "import pandas as pd\n",
    "import numpy as np\n",
    "import matplotlib.pyplot as plt\n",
    "import seaborn as sns\n",
    "from datetime import date, time, datetime\n",
    "import pymysql\n",
    "\n",
    "#Datos de conexión\n",
    "usuario='EquipoB'\n",
    "contraseña=\"E1q2u3i4p5oB\"\n",
    "host='212.227.90.6'\n",
    "puerto=3306\n",
    "nombre_base_datos='EquipB'\n",
    "\n",
    "#URL de la conexión\n",
    "url_conexion=f\"mysql+pymysql://{usuario}:{contraseña}@{host}:{puerto}/{nombre_base_datos}\"\n",
    "\n",
    "#Crear l'engine de SQLAlchemy\n",
    "try:\n",
    "    engine=create_engine(url_conexion)\n",
    "    cnx=engine.connect()\n",
    "    print(\"Conexión correcta\")\n",
    "except Exception as e:\n",
    "    print(f\"Error al conectar con SQLAlchemy: {e}\")\n",
    "    \n",
    "#Obtener el nombre de les tablas\n",
    "inspector=inspect(engine)\n",
    "nombre_tablas=inspector.get_table_names()\n",
    "\n",
    "# Diccionario para almacenar los DataFrames\n",
    "df= {}\n",
    "\n",
    "for tabla in nombre_tablas:\n",
    "    query=f\"SELECT * FROM {tabla}\"\n",
    "    \n",
    "    try:\n",
    "        df[tabla] = pd.read_sql(query, cnx)\n",
    "        print(f\"Tabla '{tabla}' cargada correctamente.\")\n",
    "    except Exception as e:\n",
    "        print(f\"Error al cargar la tabla '{tabla}':{e}\")\n",
    "  \n",
    "# Cerrar la conexión\n",
    "# cnx.close()"
   ]
  },
  {
   "cell_type": "code",
   "execution_count": 4,
   "metadata": {},
   "outputs": [],
   "source": [
    "plt.style.use(\"seaborn-v0_8-deep\")"
   ]
  },
  {
   "cell_type": "code",
   "execution_count": 5,
   "metadata": {},
   "outputs": [],
   "source": [
    "df_bank = df['BANK_marketing211024']\n",
    "\n",
    "df_marketing = df_bank[['id','contact','day','month','duration','campaign','pdays','previous','poutcome','deposit']]"
   ]
  },
  {
   "cell_type": "code",
   "execution_count": 65,
   "metadata": {},
   "outputs": [],
   "source": [
    "#df_finanzas.to_csv('C:\\\\Users\\\\ueret\\\\OneDrive\\\\Escritorio\\\\SIMULADOR\\\\s3.csv', index=False)"
   ]
  },
  {
   "cell_type": "markdown",
   "metadata": {},
   "source": [
    "## EDA: ANÁLISIS EXPLORATÓRIO"
   ]
  },
  {
   "cell_type": "markdown",
   "metadata": {},
   "source": [
    "Comprobamos los primeros registros del dataframe y la información clave de los campos."
   ]
  },
  {
   "cell_type": "code",
   "execution_count": 6,
   "metadata": {},
   "outputs": [
    {
     "data": {
      "text/html": [
       "<div>\n",
       "<style scoped>\n",
       "    .dataframe tbody tr th:only-of-type {\n",
       "        vertical-align: middle;\n",
       "    }\n",
       "\n",
       "    .dataframe tbody tr th {\n",
       "        vertical-align: top;\n",
       "    }\n",
       "\n",
       "    .dataframe thead th {\n",
       "        text-align: right;\n",
       "    }\n",
       "</style>\n",
       "<table border=\"1\" class=\"dataframe\">\n",
       "  <thead>\n",
       "    <tr style=\"text-align: right;\">\n",
       "      <th></th>\n",
       "      <th>id</th>\n",
       "      <th>contact</th>\n",
       "      <th>day</th>\n",
       "      <th>month</th>\n",
       "      <th>duration</th>\n",
       "      <th>campaign</th>\n",
       "      <th>pdays</th>\n",
       "      <th>previous</th>\n",
       "      <th>poutcome</th>\n",
       "      <th>deposit</th>\n",
       "    </tr>\n",
       "  </thead>\n",
       "  <tbody>\n",
       "    <tr>\n",
       "      <th>0</th>\n",
       "      <td>1</td>\n",
       "      <td>unknown</td>\n",
       "      <td>5</td>\n",
       "      <td>may</td>\n",
       "      <td>1042</td>\n",
       "      <td>1</td>\n",
       "      <td>-1</td>\n",
       "      <td>0</td>\n",
       "      <td>unknown</td>\n",
       "      <td>1</td>\n",
       "    </tr>\n",
       "    <tr>\n",
       "      <th>1</th>\n",
       "      <td>2</td>\n",
       "      <td>unknown</td>\n",
       "      <td>5</td>\n",
       "      <td>may</td>\n",
       "      <td>1042</td>\n",
       "      <td>1</td>\n",
       "      <td>-1</td>\n",
       "      <td>0</td>\n",
       "      <td>unknown</td>\n",
       "      <td>1</td>\n",
       "    </tr>\n",
       "    <tr>\n",
       "      <th>2</th>\n",
       "      <td>3</td>\n",
       "      <td>unknown</td>\n",
       "      <td>5</td>\n",
       "      <td>may</td>\n",
       "      <td>1467</td>\n",
       "      <td>1</td>\n",
       "      <td>-1</td>\n",
       "      <td>0</td>\n",
       "      <td>unknown</td>\n",
       "      <td>1</td>\n",
       "    </tr>\n",
       "    <tr>\n",
       "      <th>3</th>\n",
       "      <td>4</td>\n",
       "      <td>unknown</td>\n",
       "      <td>5</td>\n",
       "      <td>may</td>\n",
       "      <td>1389</td>\n",
       "      <td>1</td>\n",
       "      <td>-1</td>\n",
       "      <td>0</td>\n",
       "      <td>unknown</td>\n",
       "      <td>1</td>\n",
       "    </tr>\n",
       "    <tr>\n",
       "      <th>4</th>\n",
       "      <td>5</td>\n",
       "      <td>unknown</td>\n",
       "      <td>5</td>\n",
       "      <td>may</td>\n",
       "      <td>579</td>\n",
       "      <td>1</td>\n",
       "      <td>-1</td>\n",
       "      <td>0</td>\n",
       "      <td>unknown</td>\n",
       "      <td>1</td>\n",
       "    </tr>\n",
       "  </tbody>\n",
       "</table>\n",
       "</div>"
      ],
      "text/plain": [
       "   id  contact  day month  duration  campaign  pdays  previous poutcome  \\\n",
       "0   1  unknown    5   may      1042         1     -1         0  unknown   \n",
       "1   2  unknown    5   may      1042         1     -1         0  unknown   \n",
       "2   3  unknown    5   may      1467         1     -1         0  unknown   \n",
       "3   4  unknown    5   may      1389         1     -1         0  unknown   \n",
       "4   5  unknown    5   may       579         1     -1         0  unknown   \n",
       "\n",
       "   deposit  \n",
       "0        1  \n",
       "1        1  \n",
       "2        1  \n",
       "3        1  \n",
       "4        1  "
      ]
     },
     "execution_count": 6,
     "metadata": {},
     "output_type": "execute_result"
    }
   ],
   "source": [
    "df_marketing.head()"
   ]
  },
  {
   "cell_type": "code",
   "execution_count": 7,
   "metadata": {},
   "outputs": [
    {
     "data": {
      "text/html": [
       "<div>\n",
       "<style scoped>\n",
       "    .dataframe tbody tr th:only-of-type {\n",
       "        vertical-align: middle;\n",
       "    }\n",
       "\n",
       "    .dataframe tbody tr th {\n",
       "        vertical-align: top;\n",
       "    }\n",
       "\n",
       "    .dataframe thead th {\n",
       "        text-align: right;\n",
       "    }\n",
       "</style>\n",
       "<table border=\"1\" class=\"dataframe\">\n",
       "  <thead>\n",
       "    <tr style=\"text-align: right;\">\n",
       "      <th></th>\n",
       "      <th>id</th>\n",
       "      <th>day</th>\n",
       "      <th>duration</th>\n",
       "      <th>campaign</th>\n",
       "      <th>pdays</th>\n",
       "      <th>previous</th>\n",
       "      <th>deposit</th>\n",
       "    </tr>\n",
       "  </thead>\n",
       "  <tbody>\n",
       "    <tr>\n",
       "      <th>count</th>\n",
       "      <td>26163.000000</td>\n",
       "      <td>26163.000000</td>\n",
       "      <td>26163.000000</td>\n",
       "      <td>26163.000000</td>\n",
       "      <td>26163.000000</td>\n",
       "      <td>26163.000000</td>\n",
       "      <td>26163.00000</td>\n",
       "    </tr>\n",
       "    <tr>\n",
       "      <th>mean</th>\n",
       "      <td>13166.088216</td>\n",
       "      <td>15.649199</td>\n",
       "      <td>371.112487</td>\n",
       "      <td>2.507855</td>\n",
       "      <td>51.602798</td>\n",
       "      <td>0.830333</td>\n",
       "      <td>0.47357</td>\n",
       "    </tr>\n",
       "    <tr>\n",
       "      <th>std</th>\n",
       "      <td>7642.948371</td>\n",
       "      <td>8.418703</td>\n",
       "      <td>342.416710</td>\n",
       "      <td>2.749020</td>\n",
       "      <td>109.239182</td>\n",
       "      <td>2.274337</td>\n",
       "      <td>0.49931</td>\n",
       "    </tr>\n",
       "    <tr>\n",
       "      <th>min</th>\n",
       "      <td>1.000000</td>\n",
       "      <td>1.000000</td>\n",
       "      <td>2.000000</td>\n",
       "      <td>1.000000</td>\n",
       "      <td>-1.000000</td>\n",
       "      <td>0.000000</td>\n",
       "      <td>0.00000</td>\n",
       "    </tr>\n",
       "    <tr>\n",
       "      <th>25%</th>\n",
       "      <td>6541.500000</td>\n",
       "      <td>8.000000</td>\n",
       "      <td>139.000000</td>\n",
       "      <td>1.000000</td>\n",
       "      <td>-1.000000</td>\n",
       "      <td>0.000000</td>\n",
       "      <td>0.00000</td>\n",
       "    </tr>\n",
       "    <tr>\n",
       "      <th>50%</th>\n",
       "      <td>13082.000000</td>\n",
       "      <td>15.000000</td>\n",
       "      <td>255.000000</td>\n",
       "      <td>2.000000</td>\n",
       "      <td>-1.000000</td>\n",
       "      <td>0.000000</td>\n",
       "      <td>0.00000</td>\n",
       "    </tr>\n",
       "    <tr>\n",
       "      <th>75%</th>\n",
       "      <td>19842.500000</td>\n",
       "      <td>22.000000</td>\n",
       "      <td>496.000000</td>\n",
       "      <td>3.000000</td>\n",
       "      <td>13.000000</td>\n",
       "      <td>1.000000</td>\n",
       "      <td>1.00000</td>\n",
       "    </tr>\n",
       "    <tr>\n",
       "      <th>max</th>\n",
       "      <td>26383.000000</td>\n",
       "      <td>31.000000</td>\n",
       "      <td>3881.000000</td>\n",
       "      <td>63.000000</td>\n",
       "      <td>854.000000</td>\n",
       "      <td>58.000000</td>\n",
       "      <td>1.00000</td>\n",
       "    </tr>\n",
       "  </tbody>\n",
       "</table>\n",
       "</div>"
      ],
      "text/plain": [
       "                 id           day      duration      campaign         pdays  \\\n",
       "count  26163.000000  26163.000000  26163.000000  26163.000000  26163.000000   \n",
       "mean   13166.088216     15.649199    371.112487      2.507855     51.602798   \n",
       "std     7642.948371      8.418703    342.416710      2.749020    109.239182   \n",
       "min        1.000000      1.000000      2.000000      1.000000     -1.000000   \n",
       "25%     6541.500000      8.000000    139.000000      1.000000     -1.000000   \n",
       "50%    13082.000000     15.000000    255.000000      2.000000     -1.000000   \n",
       "75%    19842.500000     22.000000    496.000000      3.000000     13.000000   \n",
       "max    26383.000000     31.000000   3881.000000     63.000000    854.000000   \n",
       "\n",
       "           previous      deposit  \n",
       "count  26163.000000  26163.00000  \n",
       "mean       0.830333      0.47357  \n",
       "std        2.274337      0.49931  \n",
       "min        0.000000      0.00000  \n",
       "25%        0.000000      0.00000  \n",
       "50%        0.000000      0.00000  \n",
       "75%        1.000000      1.00000  \n",
       "max       58.000000      1.00000  "
      ]
     },
     "execution_count": 7,
     "metadata": {},
     "output_type": "execute_result"
    }
   ],
   "source": [
    "df_marketing.describe()\n"
   ]
  },
  {
   "cell_type": "code",
   "execution_count": 68,
   "metadata": {},
   "outputs": [
    {
     "data": {
      "text/plain": [
       "id           0\n",
       "age          0\n",
       "job          0\n",
       "marital      0\n",
       "education    0\n",
       "default      0\n",
       "balance      0\n",
       "housing      0\n",
       "loan         0\n",
       "deposit      0\n",
       "dtype: int64"
      ]
     },
     "execution_count": 68,
     "metadata": {},
     "output_type": "execute_result"
    }
   ],
   "source": [
    "df_finanzas.isnull().sum()"
   ]
  },
  {
   "cell_type": "code",
   "execution_count": 69,
   "metadata": {},
   "outputs": [
    {
     "data": {
      "text/plain": [
       "id           0\n",
       "age          0\n",
       "job          0\n",
       "marital      0\n",
       "education    0\n",
       "default      0\n",
       "balance      0\n",
       "housing      0\n",
       "loan         0\n",
       "deposit      0\n",
       "dtype: int64"
      ]
     },
     "execution_count": 69,
     "metadata": {},
     "output_type": "execute_result"
    }
   ],
   "source": [
    "df_finanzas.isnull().sum()"
   ]
  },
  {
   "cell_type": "code",
   "execution_count": null,
   "metadata": {},
   "outputs": [],
   "source": []
  }
 ],
 "metadata": {
  "kernelspec": {
   "display_name": "Python 3",
   "language": "python",
   "name": "python3"
  },
  "language_info": {
   "codemirror_mode": {
    "name": "ipython",
    "version": 3
   },
   "file_extension": ".py",
   "mimetype": "text/x-python",
   "name": "python",
   "nbconvert_exporter": "python",
   "pygments_lexer": "ipython3",
   "version": "3.11.9"
  }
 },
 "nbformat": 4,
 "nbformat_minor": 2
}
